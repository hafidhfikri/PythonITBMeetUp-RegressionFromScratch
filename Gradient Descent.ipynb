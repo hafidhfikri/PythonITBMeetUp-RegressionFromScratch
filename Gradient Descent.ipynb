{
 "cells": [
  {
   "cell_type": "markdown",
   "metadata": {},
   "source": [
    "## Python ITB - Regression From Scratch"
   ]
  },
  {
   "cell_type": "code",
   "execution_count": 111,
   "metadata": {},
   "outputs": [],
   "source": [
    "#Import Everything\n",
    "from sklearn import datasets\n",
    "import matplotlib.pyplot as plt\n",
    "import numpy as np\n",
    "\n",
    "plt.style.use('seaborn-white')"
   ]
  },
  {
   "cell_type": "code",
   "execution_count": 112,
   "metadata": {},
   "outputs": [],
   "source": [
    "#Load Data\n",
    "house = datasets.load_boston()\n",
    "X = house.data[:,5]\n",
    "#normalisasi\n",
    "#X = (X - np.min(X)) / (np.max(X)-np.min(X))\n",
    "#standarisasi\n",
    "X = (X - np.mean(X)) / np.std(X)\n",
    "#Y = np.array(house.target, ndmin = 2).T\n",
    "Y = (house.target).reshape((506,1))"
   ]
  },
  {
   "cell_type": "code",
   "execution_count": 113,
   "metadata": {},
   "outputs": [],
   "source": [
    "b = np.random.random((2,1))\n",
    "\n",
    "n = X.shape[0]\n",
    "batch = 30\n",
    "alpha = 0.001\n",
    "\n",
    "X = np.column_stack((np.ones(n),X))"
   ]
  },
  {
   "cell_type": "code",
   "execution_count": 114,
   "metadata": {},
   "outputs": [
    {
     "name": "stdout",
     "output_type": "stream",
     "text": [
      "576.1712938280735\n",
      "43.60055177116957\n",
      "43.60055177116957\n"
     ]
    }
   ],
   "source": [
    "#gradient descent\n",
    "for i in range(batch):\n",
    "    y_estimate = np.dot(X,b)\n",
    "    loss = np.sum ((Y-y_estimate)**2)/n\n",
    "    if (i%10 == 0):\n",
    "        print(loss)\n",
    "    J = -(2) * (np.dot(X.T,(Y-y_estimate)))\n",
    "    b = b - (alpha * J)"
   ]
  },
  {
   "cell_type": "code",
   "execution_count": 50,
   "metadata": {},
   "outputs": [
    {
     "name": "stdout",
     "output_type": "stream",
     "text": [
      "[[1.    6.575]\n",
      " [1.    6.421]\n",
      " [1.    7.185]\n",
      " ...\n",
      " [1.    6.976]\n",
      " [1.    6.794]\n",
      " [1.    6.03 ]]\n"
     ]
    }
   ],
   "source": [
    "print(X)"
   ]
  },
  {
   "cell_type": "code",
   "execution_count": null,
   "metadata": {},
   "outputs": [],
   "source": []
  }
 ],
 "metadata": {
  "kernelspec": {
   "display_name": "Python 3",
   "language": "python",
   "name": "python3"
  },
  "language_info": {
   "codemirror_mode": {
    "name": "ipython",
    "version": 3
   },
   "file_extension": ".py",
   "mimetype": "text/x-python",
   "name": "python",
   "nbconvert_exporter": "python",
   "pygments_lexer": "ipython3",
   "version": "3.6.4"
  }
 },
 "nbformat": 4,
 "nbformat_minor": 2
}
